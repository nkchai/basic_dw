{
 "cells": [
  {
   "cell_type": "markdown",
   "metadata": {},
   "source": [
    "# DATA WAREHOUSING BASIC DW USING DUCKDB"
   ]
  },
  {
   "cell_type": "markdown",
   "metadata": {},
   "source": [
    "### Connecting to the Database"
   ]
  },
  {
   "cell_type": "code",
   "execution_count": 12,
   "metadata": {},
   "outputs": [],
   "source": [
    "import duckdb \n",
    "duck_con = duckdb.connect('basic_dw.db')"
   ]
  },
  {
   "cell_type": "markdown",
   "metadata": {},
   "source": [
    "### Reading Parquet files to the tables"
   ]
  },
  {
   "cell_type": "markdown",
   "metadata": {},
   "source": [
    "The duckdb can automatically read the parquet files and create tables with the schema inferred from the parquet file metedata."
   ]
  },
  {
   "cell_type": "code",
   "execution_count": 13,
   "metadata": {},
   "outputs": [],
   "source": [
    "\n",
    "\n",
    "duck_con.sql(\"create or replace table customer_table as select * from 'https://azuresynapsestorage.blob.core.windows.net/sampledata/WideWorldImportersDW/parquet/tables/DimCustomer.parquet'\")\n",
    "\n",
    "duck_con.sql(\"create or replace table city_table as select * from 'https://azuresynapsestorage.blob.core.windows.net/sampledata/WideWorldImportersDW/tables/dimension_city.parquet'\")\n",
    "\n",
    "duck_con.sql(\"create or replace table sales_table as select * from 'https://azuresynapsestorage.blob.core.windows.net/sampledata/WideWorldImportersDW/tables/fact_sale.parquet'\")\n",
    "\n",
    "\n"
   ]
  },
  {
   "cell_type": "markdown",
   "metadata": {},
   "source": [
    "### Description(schema) of all 3 Tables"
   ]
  },
  {
   "cell_type": "code",
   "execution_count": 15,
   "metadata": {},
   "outputs": [
    {
     "data": {
      "text/plain": [
       "┌────────────────┬─────────────┬─────────┬─────────┬─────────┬─────────┐\n",
       "│  column_name   │ column_type │  null   │   key   │ default │  extra  │\n",
       "│    varchar     │   varchar   │ varchar │ varchar │ varchar │ varchar │\n",
       "├────────────────┼─────────────┼─────────┼─────────┼─────────┼─────────┤\n",
       "│ CustomerKey    │ INTEGER     │ YES     │ NULL    │ NULL    │ NULL    │\n",
       "│ WWICustomerID  │ INTEGER     │ YES     │ NULL    │ NULL    │ NULL    │\n",
       "│ Customer       │ VARCHAR     │ YES     │ NULL    │ NULL    │ NULL    │\n",
       "│ BillToCustomer │ VARCHAR     │ YES     │ NULL    │ NULL    │ NULL    │\n",
       "│ Category       │ VARCHAR     │ YES     │ NULL    │ NULL    │ NULL    │\n",
       "│ BuyingGroup    │ VARCHAR     │ YES     │ NULL    │ NULL    │ NULL    │\n",
       "│ PrimaryContact │ VARCHAR     │ YES     │ NULL    │ NULL    │ NULL    │\n",
       "│ PostalCode     │ VARCHAR     │ YES     │ NULL    │ NULL    │ NULL    │\n",
       "│ ValidFrom      │ TIMESTAMP   │ YES     │ NULL    │ NULL    │ NULL    │\n",
       "│ ValidTo        │ TIMESTAMP   │ YES     │ NULL    │ NULL    │ NULL    │\n",
       "│ LineageKey     │ INTEGER     │ YES     │ NULL    │ NULL    │ NULL    │\n",
       "├────────────────┴─────────────┴─────────┴─────────┴─────────┴─────────┤\n",
       "│ 11 rows                                                    6 columns │\n",
       "└──────────────────────────────────────────────────────────────────────┘"
      ]
     },
     "execution_count": 15,
     "metadata": {},
     "output_type": "execute_result"
    }
   ],
   "source": [
    "duck_con.sql(\"describe select * from customer_table\")"
   ]
  },
  {
   "cell_type": "code",
   "execution_count": 16,
   "metadata": {},
   "outputs": [
    {
     "data": {
      "text/plain": [
       "┌──────────────────────────┬─────────────┬─────────┬─────────┬─────────┬─────────┐\n",
       "│       column_name        │ column_type │  null   │   key   │ default │  extra  │\n",
       "│         varchar          │   varchar   │ varchar │ varchar │ varchar │ varchar │\n",
       "├──────────────────────────┼─────────────┼─────────┼─────────┼─────────┼─────────┤\n",
       "│ CityKey                  │ INTEGER     │ YES     │ NULL    │ NULL    │ NULL    │\n",
       "│ WWICityID                │ INTEGER     │ YES     │ NULL    │ NULL    │ NULL    │\n",
       "│ City                     │ VARCHAR     │ YES     │ NULL    │ NULL    │ NULL    │\n",
       "│ StateProvince            │ VARCHAR     │ YES     │ NULL    │ NULL    │ NULL    │\n",
       "│ Country                  │ VARCHAR     │ YES     │ NULL    │ NULL    │ NULL    │\n",
       "│ Continent                │ VARCHAR     │ YES     │ NULL    │ NULL    │ NULL    │\n",
       "│ SalesTerritory           │ VARCHAR     │ YES     │ NULL    │ NULL    │ NULL    │\n",
       "│ Region                   │ VARCHAR     │ YES     │ NULL    │ NULL    │ NULL    │\n",
       "│ Subregion                │ VARCHAR     │ YES     │ NULL    │ NULL    │ NULL    │\n",
       "│ Location                 │ VARCHAR     │ YES     │ NULL    │ NULL    │ NULL    │\n",
       "│ LatestRecordedPopulation │ BIGINT      │ YES     │ NULL    │ NULL    │ NULL    │\n",
       "│ ValidFrom                │ TIMESTAMP   │ YES     │ NULL    │ NULL    │ NULL    │\n",
       "│ ValidTo                  │ TIMESTAMP   │ YES     │ NULL    │ NULL    │ NULL    │\n",
       "│ LineageKey               │ INTEGER     │ YES     │ NULL    │ NULL    │ NULL    │\n",
       "├──────────────────────────┴─────────────┴─────────┴─────────┴─────────┴─────────┤\n",
       "│ 14 rows                                                              6 columns │\n",
       "└────────────────────────────────────────────────────────────────────────────────┘"
      ]
     },
     "execution_count": 16,
     "metadata": {},
     "output_type": "execute_result"
    }
   ],
   "source": [
    "duck_con.sql(\"describe select * from city_table\")"
   ]
  },
  {
   "cell_type": "code",
   "execution_count": 17,
   "metadata": {},
   "outputs": [
    {
     "data": {
      "text/plain": [
       "┌───────────────────┬───────────────┬─────────┬─────────┬─────────┬─────────┐\n",
       "│    column_name    │  column_type  │  null   │   key   │ default │  extra  │\n",
       "│      varchar      │    varchar    │ varchar │ varchar │ varchar │ varchar │\n",
       "├───────────────────┼───────────────┼─────────┼─────────┼─────────┼─────────┤\n",
       "│ SaleKey           │ BIGINT        │ YES     │ NULL    │ NULL    │ NULL    │\n",
       "│ CityKey           │ INTEGER       │ YES     │ NULL    │ NULL    │ NULL    │\n",
       "│ CustomerKey       │ INTEGER       │ YES     │ NULL    │ NULL    │ NULL    │\n",
       "│ BillToCustomerKey │ INTEGER       │ YES     │ NULL    │ NULL    │ NULL    │\n",
       "│ StockItemKey      │ INTEGER       │ YES     │ NULL    │ NULL    │ NULL    │\n",
       "│ InvoiceDateKey    │ TIMESTAMP     │ YES     │ NULL    │ NULL    │ NULL    │\n",
       "│ DeliveryDateKey   │ TIMESTAMP     │ YES     │ NULL    │ NULL    │ NULL    │\n",
       "│ SalespersonKey    │ INTEGER       │ YES     │ NULL    │ NULL    │ NULL    │\n",
       "│ WWIInvoiceID      │ INTEGER       │ YES     │ NULL    │ NULL    │ NULL    │\n",
       "│ Description       │ VARCHAR       │ YES     │ NULL    │ NULL    │ NULL    │\n",
       "│ Package           │ VARCHAR       │ YES     │ NULL    │ NULL    │ NULL    │\n",
       "│ Quantity          │ INTEGER       │ YES     │ NULL    │ NULL    │ NULL    │\n",
       "│ UnitPrice         │ DECIMAL(18,2) │ YES     │ NULL    │ NULL    │ NULL    │\n",
       "│ TaxRate           │ DECIMAL(18,3) │ YES     │ NULL    │ NULL    │ NULL    │\n",
       "│ TotalExcludingTax │ DECIMAL(18,2) │ YES     │ NULL    │ NULL    │ NULL    │\n",
       "│ TaxAmount         │ DECIMAL(18,2) │ YES     │ NULL    │ NULL    │ NULL    │\n",
       "│ Profit            │ DECIMAL(18,2) │ YES     │ NULL    │ NULL    │ NULL    │\n",
       "│ TotalIncludingTax │ DECIMAL(18,2) │ YES     │ NULL    │ NULL    │ NULL    │\n",
       "│ TotalDryItems     │ INTEGER       │ YES     │ NULL    │ NULL    │ NULL    │\n",
       "│ TotalChillerItems │ INTEGER       │ YES     │ NULL    │ NULL    │ NULL    │\n",
       "│ LineageKey        │ INTEGER       │ YES     │ NULL    │ NULL    │ NULL    │\n",
       "├───────────────────┴───────────────┴─────────┴─────────┴─────────┴─────────┤\n",
       "│ 21 rows                                                         6 columns │\n",
       "└───────────────────────────────────────────────────────────────────────────┘"
      ]
     },
     "execution_count": 17,
     "metadata": {},
     "output_type": "execute_result"
    }
   ],
   "source": [
    "duck_con.sql(\"describe select * from sales_table\")"
   ]
  },
  {
   "cell_type": "markdown",
   "metadata": {},
   "source": [
    "### Creating a Date table with min and max dates "
   ]
  },
  {
   "cell_type": "code",
   "execution_count": 18,
   "metadata": {},
   "outputs": [
    {
     "data": {
      "text/plain": [
       "┌───────┬─────────┬───────┬───────┬───────┬─────────────────────┐\n",
       "│ year  │ quarter │ month │ week  │  dow  │        date         │\n",
       "│ int64 │  int64  │ int64 │ int64 │ int64 │      timestamp      │\n",
       "├───────┼─────────┼───────┼───────┼───────┼─────────────────────┤\n",
       "│  2000 │       1 │     1 │    52 │     6 │ 2000-01-01 00:00:00 │\n",
       "│  2000 │       1 │     1 │    52 │     0 │ 2000-01-02 00:00:00 │\n",
       "│  2000 │       1 │     1 │     1 │     1 │ 2000-01-03 00:00:00 │\n",
       "│  2000 │       1 │     1 │     1 │     2 │ 2000-01-04 00:00:00 │\n",
       "│  2000 │       1 │     1 │     1 │     3 │ 2000-01-05 00:00:00 │\n",
       "│  2000 │       1 │     1 │     1 │     4 │ 2000-01-06 00:00:00 │\n",
       "│  2000 │       1 │     1 │     1 │     5 │ 2000-01-07 00:00:00 │\n",
       "│  2000 │       1 │     1 │     1 │     6 │ 2000-01-08 00:00:00 │\n",
       "│  2000 │       1 │     1 │     1 │     0 │ 2000-01-09 00:00:00 │\n",
       "│  2000 │       1 │     1 │     2 │     1 │ 2000-01-10 00:00:00 │\n",
       "│    ·  │       · │     · │     · │     · │          ·          │\n",
       "│    ·  │       · │     · │     · │     · │          ·          │\n",
       "│    ·  │       · │     · │     · │     · │          ·          │\n",
       "│  2000 │       4 │    11 │    47 │     2 │ 2000-11-21 00:00:00 │\n",
       "│  2000 │       4 │    11 │    47 │     3 │ 2000-11-22 00:00:00 │\n",
       "│  2000 │       4 │    11 │    47 │     4 │ 2000-11-23 00:00:00 │\n",
       "│  2000 │       4 │    11 │    47 │     5 │ 2000-11-24 00:00:00 │\n",
       "│  2000 │       4 │    11 │    47 │     6 │ 2000-11-25 00:00:00 │\n",
       "│  2000 │       4 │    11 │    47 │     0 │ 2000-11-26 00:00:00 │\n",
       "│  2000 │       4 │    11 │    48 │     1 │ 2000-11-27 00:00:00 │\n",
       "│  2000 │       4 │    11 │    48 │     2 │ 2000-11-28 00:00:00 │\n",
       "│  2000 │       4 │    11 │    48 │     3 │ 2000-11-29 00:00:00 │\n",
       "│  2000 │       4 │    11 │    48 │     4 │ 2000-11-30 00:00:00 │\n",
       "├───────┴─────────┴───────┴───────┴───────┴─────────────────────┤\n",
       "│ 335 rows (20 shown)                                 6 columns │\n",
       "└───────────────────────────────────────────────────────────────┘"
      ]
     },
     "execution_count": 18,
     "metadata": {},
     "output_type": "execute_result"
    }
   ],
   "source": [
    "# import datetime\n",
    "# min_date = (duckdb.sql(\"select min(InvoiceDateKey) from sales_table\").fetchone()[0])\n",
    "# print(min_date)\n",
    "# #print(min_date.strftime(\"%y-%m-%d\"))\n",
    "# max_date = (duckdb.sql(\"select max(InvoiceDateKey) from sales_table\").fetchone()[0])\n",
    "# print(max_date)\n",
    "\n",
    "date_dim = duck_con.sql(''' create or replace table date_dim as \n",
    "                      with days as (\n",
    "                      select \n",
    "                        year(\"generate_series\") as year,\n",
    "                        quarter(\"generate_series\") as quarter,\n",
    "                        month(\"generate_series\") as month,\n",
    "                        week(\"generate_series\") as week,\n",
    "                        dayofweek(\"generate_series\") as dow,\n",
    "                        \"generate_series\" as date\n",
    "                    from generate_series(date '2000-01-01' ,date '2000-11-30' , interval 1 day)\n",
    "                    )\n",
    "                    select year,quarter,month,week,dow,date \n",
    "                    from days\n",
    "                    order by date \n",
    "                       ''')\n",
    "\n",
    "duck_con.sql(\"select * from date_dim\")"
   ]
  },
  {
   "cell_type": "markdown",
   "metadata": {},
   "source": [
    "### Creating a Aggregated sales fact table"
   ]
  },
  {
   "cell_type": "code",
   "execution_count": 19,
   "metadata": {},
   "outputs": [],
   "source": [
    "#Create an aggregate fact table using Sales Table with the following columns,InvoiceDateKey] AS [Date],  City, \n",
    "#StateProvince, SalesTerritory, TotalExcludingTax, TaxAmount,TotalIncludingTax and Profit \n",
    "#and grouped by Invoice Date, City, State and Sales Territory\n",
    "#and Ordered by Invoice Date, StateProvince and City\n",
    "\n",
    "agg_fact = duck_con.sql(''' select s.CustomerKey, InvoiceDateKey as Date , City , StateProvince, SalesTerritory, \n",
    "                        TotalExcludingTax, TaxAmount, TotalIncludingTax, Profit from sales_table s\n",
    "                        inner join city_table on s.CityKey = city_table.CityKey\n",
    "                        inner join customer_table on s.CustomerKey = customer_table.CustomerKey\n",
    "                     ''' )\n",
    "\n",
    "duck_con.sql(\"create or replace table agg_sales_fact_table as select * from agg_fact\")\n",
    "\n"
   ]
  },
  {
   "cell_type": "markdown",
   "metadata": {},
   "source": [
    "### Description(schema) of aggregated fact table"
   ]
  },
  {
   "cell_type": "code",
   "execution_count": 20,
   "metadata": {},
   "outputs": [
    {
     "data": {
      "text/plain": [
       "┌───────────────────┬───────────────┬─────────┬─────────┬─────────┬─────────┐\n",
       "│    column_name    │  column_type  │  null   │   key   │ default │  extra  │\n",
       "│      varchar      │    varchar    │ varchar │ varchar │ varchar │ varchar │\n",
       "├───────────────────┼───────────────┼─────────┼─────────┼─────────┼─────────┤\n",
       "│ CustomerKey       │ INTEGER       │ YES     │ NULL    │ NULL    │ NULL    │\n",
       "│ Date              │ TIMESTAMP     │ YES     │ NULL    │ NULL    │ NULL    │\n",
       "│ City              │ VARCHAR       │ YES     │ NULL    │ NULL    │ NULL    │\n",
       "│ StateProvince     │ VARCHAR       │ YES     │ NULL    │ NULL    │ NULL    │\n",
       "│ SalesTerritory    │ VARCHAR       │ YES     │ NULL    │ NULL    │ NULL    │\n",
       "│ TotalExcludingTax │ DECIMAL(18,2) │ YES     │ NULL    │ NULL    │ NULL    │\n",
       "│ TaxAmount         │ DECIMAL(18,2) │ YES     │ NULL    │ NULL    │ NULL    │\n",
       "│ TotalIncludingTax │ DECIMAL(18,2) │ YES     │ NULL    │ NULL    │ NULL    │\n",
       "│ Profit            │ DECIMAL(18,2) │ YES     │ NULL    │ NULL    │ NULL    │\n",
       "└───────────────────┴───────────────┴─────────┴─────────┴─────────┴─────────┘"
      ]
     },
     "execution_count": 20,
     "metadata": {},
     "output_type": "execute_result"
    }
   ],
   "source": [
    "duck_con.sql(\"describe select * from agg_sales_fact_table\")"
   ]
  },
  {
   "cell_type": "markdown",
   "metadata": {},
   "source": [
    "### Profit for a Specific Cusotmer"
   ]
  },
  {
   "cell_type": "code",
   "execution_count": 21,
   "metadata": {},
   "outputs": [
    {
     "data": {
      "text/plain": [
       "┌─────────────┬──────────────────────────┬───────────────┐\n",
       "│ CustomerKey │         Customer         │  TotalProfit  │\n",
       "│    int32    │         varchar          │ decimal(38,2) │\n",
       "├─────────────┼──────────────────────────┼───────────────┤\n",
       "│         387 │ Wingtip Toys (Lynne, FL) │   95423040.00 │\n",
       "└─────────────┴──────────────────────────┴───────────────┘"
      ]
     },
     "execution_count": 21,
     "metadata": {},
     "output_type": "execute_result"
    }
   ],
   "source": [
    "# Profit for a specific customer,\n",
    "\n",
    "duck_con.sql('''select \n",
    "                a.CustomerKey, \n",
    "                b.Customer,\n",
    "                sum(a.Profit) as TotalProfit\n",
    "            from \n",
    "                agg_sales_fact_table a\n",
    "            join \n",
    "                customer_table b ON a.CustomerKey = b.CustomerKey \n",
    "            Where a.CustomerKey = 387\n",
    "            group by a.CustomerKey, b.Customer''')\n",
    "\n",
    "\n"
   ]
  },
  {
   "cell_type": "markdown",
   "metadata": {},
   "source": [
    "### Number of the Years of data the dataset contains"
   ]
  },
  {
   "cell_type": "code",
   "execution_count": 23,
   "metadata": {},
   "outputs": [
    {
     "data": {
      "text/plain": [
       "┌──────────────────────┐\n",
       "│ year(InvoiceDateKey) │\n",
       "│        int64         │\n",
       "├──────────────────────┤\n",
       "│                 2000 │\n",
       "└──────────────────────┘"
      ]
     },
     "execution_count": 23,
     "metadata": {},
     "output_type": "execute_result"
    }
   ],
   "source": [
    "duck_con.sql(''' select distinct year(InvoiceDateKey) from sales_table''')"
   ]
  },
  {
   "cell_type": "markdown",
   "metadata": {},
   "source": [
    "### List of customers in a city and sales for a specific year"
   ]
  },
  {
   "cell_type": "markdown",
   "metadata": {},
   "source": [
    "Note: The dataset contains the data only for year 2000 and I have created two queries one lists all the customer in a city(Sinclair) and  their respective sales for year 2000 and another displays all the city names how many customer's each cit and total sales of all customers in that city."
   ]
  },
  {
   "cell_type": "code",
   "execution_count": 24,
   "metadata": {},
   "outputs": [
    {
     "data": {
      "text/plain": [
       "┌─────────────┬───────────────┐\n",
       "│ CustomerKey │ Year2000Sales │\n",
       "│    int32    │ decimal(38,2) │\n",
       "├─────────────┼───────────────┤\n",
       "│           0 │  100283456.00 │\n",
       "│         169 │  129991363.20 │\n",
       "└─────────────┴───────────────┘"
      ]
     },
     "execution_count": 24,
     "metadata": {},
     "output_type": "execute_result"
    }
   ],
   "source": [
    "# List of customers in a city and sales for a specific year\n",
    "\n",
    "\n",
    "duck_con.sql(''' select CustomerKey, sum(TotalIncludingTax) as Year2000Sales\n",
    "             from agg_sales_fact_table \n",
    "             where City = 'Sinclair' and year(DATE) = 2000\n",
    "             group by  CustomerKey ''')\n",
    "\n",
    "\n"
   ]
  },
  {
   "cell_type": "code",
   "execution_count": 22,
   "metadata": {},
   "outputs": [
    {
     "data": {
      "text/plain": [
       "┌─────────────────┬───────────┬───────────────┐\n",
       "│      City       │ customers │ Year2000Sale  │\n",
       "│     varchar     │   int64   │ decimal(38,2) │\n",
       "├─────────────────┼───────────┼───────────────┤\n",
       "│ East Fultonham  │         2 │   45126552.00 │\n",
       "│ Akhiok          │         2 │  231603670.40 │\n",
       "│ Teutopolis      │         2 │  435594470.00 │\n",
       "│ Sinclair        │         2 │  230274819.20 │\n",
       "│ Rockwall        │         2 │  238622456.40 │\n",
       "│ Corfu           │         1 │  165754998.40 │\n",
       "│ Railroad        │         1 │   59889424.00 │\n",
       "│ East Mountain   │         1 │   30016876.80 │\n",
       "│ Humansville     │         1 │   96700832.00 │\n",
       "│ Trumansburg     │         1 │   51709606.50 │\n",
       "│   ·             │         · │        ·      │\n",
       "│   ·             │         · │        ·      │\n",
       "│   ·             │         · │        ·      │\n",
       "│ Buell           │         1 │   70072352.00 │\n",
       "│ Deer River      │         1 │  125252480.00 │\n",
       "│ Hayes Center    │         1 │   31658304.00 │\n",
       "│ Spillertown     │         1 │   49040784.00 │\n",
       "│ Miesville       │         1 │  152832681.60 │\n",
       "│ La Paz          │         1 │  162794989.00 │\n",
       "│ Branchburg Park │         1 │   72951001.65 │\n",
       "│ Bernie          │         1 │  238399968.00 │\n",
       "│ Fortville       │         1 │   92526688.96 │\n",
       "│ Oley            │         1 │   10552768.00 │\n",
       "├─────────────────┴───────────┴───────────────┤\n",
       "│ 463 rows (20 shown)               3 columns │\n",
       "└─────────────────────────────────────────────┘"
      ]
     },
     "execution_count": 22,
     "metadata": {},
     "output_type": "execute_result"
    }
   ],
   "source": [
    "duck_con.sql(''' select distinct(City),count(distinct(CustomerKey)) as customers,sum(TotalIncludingTax) as Year2000Sale\n",
    "              from agg_sales_fact_table \n",
    "              group by City \n",
    "              order by customers desc ''')"
   ]
  },
  {
   "cell_type": "markdown",
   "metadata": {},
   "source": [
    "### Using date and city and the aggregate sales fact table result of Total incluing tax and profit by region duing a specific quarter"
   ]
  },
  {
   "cell_type": "markdown",
   "metadata": {},
   "source": [
    "Note: Instead of a specific quarter I chose to give the data for all four quarters"
   ]
  },
  {
   "cell_type": "code",
   "execution_count": 25,
   "metadata": {},
   "outputs": [
    {
     "data": {
      "text/plain": [
       "┌──────────┬─────────┬────────────────┬────────────────┐\n",
       "│  Region  │ quarter │   TotalSales   │  Totalprofit   │\n",
       "│ varchar  │  int64  │ decimal(38,2)  │ decimal(38,2)  │\n",
       "├──────────┼─────────┼────────────────┼────────────────┤\n",
       "│ Americas │       1 │ 35693201665.06 │ 15445288592.80 │\n",
       "│ Americas │       2 │ 35738582209.44 │ 15466226908.10 │\n",
       "│ Americas │       3 │ 36045198650.65 │ 15598495212.60 │\n",
       "│ Americas │       4 │ 23893331813.38 │ 10339890223.00 │\n",
       "└──────────┴─────────┴────────────────┴────────────────┘"
      ]
     },
     "execution_count": 25,
     "metadata": {},
     "output_type": "execute_result"
    }
   ],
   "source": [
    "# Using date and city and the aggregate sales fact table result of Total incluing tax and profit by region duing a specific quarter\n",
    "\n",
    "duck_con.sql('''select b.region , quarter , sum(a.TotalIncludingTax) as TotalSales , sum(a.profit) as Totalprofit\n",
    "                from agg_sales_fact_table a \n",
    "                join \n",
    "                date_dim d on a.Date = d.Date\n",
    "                join \n",
    "                city_table b on a.City = b.City\n",
    "                group by  region , quarter\n",
    "                order by quarter''' )\n",
    "\n"
   ]
  },
  {
   "cell_type": "markdown",
   "metadata": {},
   "source": [
    "### Result of Tax amount by territory during a quarter"
   ]
  },
  {
   "cell_type": "code",
   "execution_count": 26,
   "metadata": {},
   "outputs": [
    {
     "data": {
      "text/plain": [
       "┌────────────────┬───────────────┐\n",
       "│ SalesTerritory │   TaxAmount   │\n",
       "│    varchar     │ decimal(38,2) │\n",
       "├────────────────┼───────────────┤\n",
       "│ Great Lakes    │  196404472.76 │\n",
       "│ Far West       │  127682140.04 │\n",
       "│ Mideast        │  249599009.90 │\n",
       "│ Rocky Mountain │   74137402.43 │\n",
       "│ Southeast      │  352894028.04 │\n",
       "│ External       │   10543832.80 │\n",
       "│ Southwest      │  129178961.81 │\n",
       "│ New England    │  101234636.54 │\n",
       "│ Plains         │  233113005.73 │\n",
       "└────────────────┴───────────────┘"
      ]
     },
     "execution_count": 26,
     "metadata": {},
     "output_type": "execute_result"
    }
   ],
   "source": [
    "# result of Tax amount by territory during a quarter\n",
    "\n",
    "duck_con.sql(''' select SalesTerritory  , sum(a.TaxAmount) as TaxAmount\n",
    "               from agg_sales_fact_table a\n",
    "               join \n",
    "               date_dim d on a.Date = d.Date\n",
    "               where quarter = 1\n",
    "               group by SalesTerritory ''')\n"
   ]
  },
  {
   "cell_type": "markdown",
   "metadata": {},
   "source": [
    "### List of Tables present in the basic_dw.db"
   ]
  },
  {
   "cell_type": "code",
   "execution_count": 27,
   "metadata": {},
   "outputs": [
    {
     "data": {
      "text/plain": [
       "┌──────────────────────┐\n",
       "│         name         │\n",
       "│       varchar        │\n",
       "├──────────────────────┤\n",
       "│ agg_sales_fact_table │\n",
       "│ city_table           │\n",
       "│ customer_table       │\n",
       "│ date_dim             │\n",
       "│ sales_table          │\n",
       "└──────────────────────┘"
      ]
     },
     "execution_count": 27,
     "metadata": {},
     "output_type": "execute_result"
    }
   ],
   "source": [
    "duck_con.sql(\"show tables\")"
   ]
  }
 ],
 "metadata": {
  "kernelspec": {
   "display_name": "Python 3",
   "language": "python",
   "name": "python3"
  },
  "language_info": {
   "codemirror_mode": {
    "name": "ipython",
    "version": 3
   },
   "file_extension": ".py",
   "mimetype": "text/x-python",
   "name": "python",
   "nbconvert_exporter": "python",
   "pygments_lexer": "ipython3",
   "version": "3.9.13"
  }
 },
 "nbformat": 4,
 "nbformat_minor": 2
}
